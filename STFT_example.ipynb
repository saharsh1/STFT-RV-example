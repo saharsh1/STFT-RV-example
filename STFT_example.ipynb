{
 "cells": [
  {
   "cell_type": "markdown",
   "metadata": {},
   "source": [
    "# Analysis of SOAP simulated spectra\n",
    "\n"
   ]
  },
  {
   "cell_type": "markdown",
   "metadata": {},
   "source": [
    "#### 1. Initializations\n",
    "\n",
    "Imports and Auxil functions"
   ]
  },
  {
   "cell_type": "code",
   "execution_count": 1,
   "metadata": {
    "pycharm": {
     "is_executing": false
    }
   },
   "outputs": [],
   "source": [
    "# We use some interpolation routines.\n",
    "from scipy import interpolate, signal, stats\n",
    "from scipy.optimize import minimize_scalar\n",
    "from spectres.spectral_resampling_numba import spectres_numba as sn\n",
    "\n",
    "# Standard math and plotting.\n",
    "import numpy as np, matplotlib.pyplot as plt,  pickle\n",
    "\n",
    "# Astropy units and constants.\n",
    "from astropy import units as u, constants as const\n",
    "\n",
    "# Load some auxil routines\n",
    "from auxil import gaussian_broadening, rotational_broadening, velocity_shift"
   ]
  },
  {
   "cell_type": "markdown",
   "metadata": {},
   "source": [
    "Set wavelength grid and broadening kernels"
   ]
  },
  {
   "cell_type": "code",
   "execution_count": 2,
   "metadata": {},
   "outputs": [],
   "source": [
    "# Set the log-sampled velocity grid\n",
    "dv        = 800*u.m/u.s\n",
    "c         = const.c         # speeed of light\n",
    "dlam      = np.log(1+dv/c).decompose().value\n",
    "wv_range  = [5000,6400] # Angstrom\n",
    "wv0       = np.exp(np.arange(np.log(wv_range[0]), np.log(wv_range[1]), dlam))"
   ]
  },
  {
   "cell_type": "markdown",
   "metadata": {},
   "source": [
    "------------------------------\n",
    "#### 2. Load the simulation\n",
    "\n",
    "Here we load the simulated spectra and resample it to the wavelength grid degined above."
   ]
  },
  {
   "cell_type": "code",
   "execution_count": 3,
   "metadata": {},
   "outputs": [],
   "source": [
    "# Load the simulation\n",
    "with open(r\"./data/SOAP_simulation.pkl\", 'rb') as f:\n",
    "    soap = pickle.load(f)\n",
    "    \n",
    "# Arrange and resample to the wavelength grid defined above\n",
    "times    = soap['time']\n",
    "sp_list  = [sn(wv0,soap['wv'],soap['sp'][i]) for i in np.arange(len(times))]"
   ]
  },
  {
   "cell_type": "markdown",
   "metadata": {},
   "source": [
    "-------------------------\n",
    "#### 3. Load the model\n",
    "\n",
    "We use PHOENIX models to calculate the photospheric model and its temperature derivatives. "
   ]
  },
  {
   "cell_type": "code",
   "execution_count": 4,
   "metadata": {},
   "outputs": [],
   "source": [
    "# Load the PHOENIX spectrum\n",
    "with open(r\"./data/PHNX_model.pkl\", 'rb') as f:\n",
    "    phnx = pickle.load(f)\n",
    "    \n",
    "# Resample the spectrum to the predefined wavelength grid\n",
    "model0   = sn(wv0, phnx['wv'], phnx['sp'])\n",
    "\n",
    "# Broaden and normalize the model\n",
    "Kg       = gaussian_broadening(dv=dv, N=len(wv0), R=115_000)\n",
    "Kv       = rotational_broadening(dv=dv, N=len(wv0), vrot=2.0*u.km/u.s)\n",
    "spn      = signal.fftconvolve(model0,Kv,mode='same') \n",
    "spn      = signal.fftconvolve(spn,Kg,mode='same') \n",
    "spn_norm = (spn-np.mean(spn))"
   ]
  },
  {
   "cell_type": "markdown",
   "metadata": {},
   "source": [
    "We used the IRSOL to obtain the center-to-limb derivatives, which we noe load and resample."
   ]
  },
  {
   "cell_type": "code",
   "execution_count": 5,
   "metadata": {},
   "outputs": [],
   "source": [
    "with open(r\"./data/CLV_atlas.pkl\", 'rb') as f:\n",
    "    clv  = pickle.load(f)\n",
    "\n",
    "# Define the rotational and instrumental broadening kernels\n",
    "Kg_hr    = gaussian_broadening(dv=dv, N=len(wv0), R=200_000)\n",
    "clv_d0   = signal.fftconvolve(sn(wv0,clv['wv'],clv['derivatives'][0]),Kg_hr,mode='same')\n",
    "clv_d1   = signal.fftconvolve(sn(wv0,clv['wv'],clv['derivatives'][1]),Kg_hr,mode='same')\n",
    "clv_d2   = signal.fftconvolve(sn(wv0,clv['wv'],clv['derivatives'][2]),Kg_hr,mode='same')\n",
    "clv_d3   = signal.fftconvolve(sn(wv0,clv['wv'],clv['derivatives'][3]),Kg_hr,mode='same')\n",
    "clv_d4   = signal.fftconvolve(sn(wv0,clv['wv'],clv['derivatives'][4]),Kg_hr,mode='same')\n",
    "clv_d5   = signal.fftconvolve(sn(wv0,clv['wv'],clv['derivatives'][5]),Kg_hr,mode='same')\n",
    "\n",
    "# This is the batch of high order terms we will use later\n",
    "dm       = np.array([[clv_d1], [clv_d2],[clv_d3],[clv_d4], [clv_d5]])"
   ]
  },
  {
   "cell_type": "markdown",
   "metadata": {},
   "source": [
    "------------------------------\n",
    "#### 4. STFT-related routines\n",
    "\n",
    "The STFT related routines are provided explicitly below.\n",
    "The first routine shows how we generate the STFT data structure.\n",
    "The second routine is used to derive the score for a given velocity shift"
   ]
  },
  {
   "cell_type": "code",
   "execution_count": 6,
   "metadata": {},
   "outputs": [],
   "source": [
    "# -----------------------------------------------------------------------------\n",
    "# -----------------------------------------------------------------------------\n",
    "#                Routine §1: generate the STFT data structure.\n",
    "# -----------------------------------------------------------------------------\n",
    "# -----------------------------------------------------------------------------\n",
    "def generate_data_structure(data, d_models=None, window='hann', noverlap=3*2**6//4,\n",
    "                            nperseg=2**6, fs=None,return_onesided=True):\n",
    "    \"\"\"\n",
    "    This function generates the required data structure for the STFT analysis.\n",
    "    It recieves a spectrum and an array of models (for example, photospheric\n",
    "    model and a set of derivatives, which are assumed to be sampled on the \n",
    "    same wavelength grid. This is then used\n",
    "\n",
    "    Input: * data          - a vector of length Nwv\n",
    "           * d_models      - a matrix of size Nmodel X Nwv\n",
    "           * STFT input:   - window, noverlap, nperseg, fs, and return_onesided.\n",
    "\n",
    "    Output: * zetas, lambas - the inverse-wavelength and coarse-wavelength grids.\n",
    "            * obs_block     - STFT of the data (Nzeta X Nlambda).\n",
    "            * model_block   - a 3-d array the STFT of all models (Nzeta X Nmodel X Nlambda).\n",
    "    \"\"\"\n",
    "    \n",
    "    \n",
    "    # Generate the data block\n",
    "    zetas, lambdas, obs_block  = signal.stft(data, fs=fs, window=window, \n",
    "                                          nperseg=nperseg, noverlap=noverlap, \n",
    "                                          nfft=None, detrend=None, \n",
    "                                          return_onesided=return_onesided, \n",
    "                                          boundary='zeros', scaling='psd',\n",
    "                                          padded=False, axis=-1, \n",
    "                                         )\n",
    "    \n",
    "    \n",
    "    if d_models is None:\n",
    "        return zetas, lambdas, obs_block, None\n",
    "    else:\n",
    "        # Initialize and fill-up the model block\n",
    "        model_block = np.full((obs_block.shape[0],len(d_models), obs_block.shape[1]), np.nan, dtype=complex)                        \n",
    "        for ii, m in enumerate(d_models):\n",
    "            model_block[:,ii,:] = signal.stft(m, fs=fs, window=window, \n",
    "                                          nperseg=nperseg, noverlap=noverlap, \n",
    "                                          nfft=None, detrend=None, \n",
    "                                          return_onesided=return_onesided, \n",
    "                                          boundary='zeros', scaling='psd',\n",
    "                                          padded=False, axis=-1, \n",
    "                                         )[-1]\n",
    "        return zetas, lambdas, obs_block, model_block"
   ]
  },
  {
   "cell_type": "code",
   "execution_count": 7,
   "metadata": {},
   "outputs": [],
   "source": [
    "# -----------------------------------------------------------------------------\n",
    "# -----------------------------------------------------------------------------\n",
    "#      Routine §2: calculate the log-likelihood of a given velocity shift\n",
    "# -----------------------------------------------------------------------------\n",
    "# -----------------------------------------------------------------------------\n",
    "def score(vel, data,  model0, models, \n",
    "          nperseg=2**6, noverlap=3*2**6//4, dv=None, window='hann', w=1.0):\n",
    "    \"\"\"\n",
    "    This function calculates the score described in equations (19) and (20).\n",
    "    \n",
    "    Input: vel       - scalar.velocity shift. Is should be in the same units as dv.\n",
    "           data      - vector. STFT'ed input spectrum.\n",
    "           model0    - vector. Zeroth-order photospheric mode. See equation (17).\n",
    "           models    - matrix. The STFT'ed high order terms.\n",
    "           w         - scalar. Typical inverse variance.\n",
    "           STFT pars - nperseg, noverlap, dv, window. \n",
    "           \n",
    "    Output: An array with the STFT score for the full model and for the \n",
    "            zerot-order photospheric model alone, without the high order\n",
    "            terms.\n",
    "    \"\"\"\n",
    "    \n",
    "    \n",
    "    # Shift the data and get the residuals\n",
    "    # (This is equivalent to equation (C1) in the manuscript)\n",
    "    dat_tmp  = velocity_shift(data, dv, v_shift=-vel)\n",
    "    X        = np.array([np.ones_like(model0), model0])[:,2:-2]\n",
    "    alpha    = np.linalg.inv(X@X.T*w)@(X*w)@dat_tmp[2:-2]\n",
    "    dat_tmp -= (alpha[0] + alpha[1]*(model0))  \n",
    "\n",
    "    \n",
    "    # Generate the STFT data structure:\n",
    "    zetas, lambdas, obs_block, _ = generate_data_structure(dat_tmp, None, noverlap=noverlap,\n",
    "                                                                          nperseg=nperseg, fs=1/dv.value,\n",
    "                                                                          window=window)\n",
    "\n",
    "    # We remove the first and last parts of each bock, to avoid edge-effects.\n",
    "    ob     = obs_block[:,1:-1]\n",
    "    mdb    = models[:,:,1:-1]\n",
    "    ZxxR   = np.zeros(ob.shape, dtype=complex)\n",
    "\n",
    "    \n",
    "    # The function needs to iterate over all inverse wavelengths. \n",
    "    # For each inverse wavelength, we calculate the score and aggregate it. \n",
    "    for zeta_ind, blk in enumerate(mdb):  \n",
    "        y     = ob[zeta_ind,:]\n",
    "        X     = np.ascontiguousarray((blk[:,:]).T)\n",
    "        Xh    = np.ascontiguousarray(np.conjugate(X.T))        \n",
    "        xTx   = np.ascontiguousarray(Xh@X*w)\n",
    "        xTx_i = np.ascontiguousarray(np.linalg.inv(xTx))\n",
    "        ctmp  = np.ascontiguousarray((xTx_i@(Xh*w)@y))        \n",
    "        ZxxR[zeta_ind,:] = y - (X@ctmp) \n",
    "    \n",
    "    \n",
    "    # Here we calculate the score\n",
    "    int_factor = (zetas[1]-zetas[0])*(lambdas[1]-lambdas[0])*(1/dv.value)\n",
    "    E_Zxx      = -np.sum((ZxxR.real**2 + ZxxR.imag**2)*int_factor)\n",
    "    E_Zxx0     = -np.sum((ob.real**2 + ob.imag**2)*int_factor)\n",
    "    \n",
    "    return [E_Zxx, E_Zxx0]"
   ]
  },
  {
   "cell_type": "markdown",
   "metadata": {},
   "source": [
    "------------------------\n",
    "#### 5. Numerical experiment\n",
    "\n",
    "Now we add a sinewave to the data and check whether we can find it.."
   ]
  },
  {
   "cell_type": "code",
   "execution_count": 8,
   "metadata": {},
   "outputs": [],
   "source": [
    "# Generate the model matrix for the high order terms.\n",
    "_, _, _, mdl = generate_data_structure(spn_norm, dm,fs=1/0.8)"
   ]
  },
  {
   "cell_type": "code",
   "execution_count": 9,
   "metadata": {},
   "outputs": [
    {
     "name": "stderr",
     "output_type": "stream",
     "text": [
      "100%|██████████| 249/249 [09:07<00:00,  2.20s/it]\n"
     ]
    }
   ],
   "source": [
    "from tqdm import tqdm\n",
    "\n",
    "# Initialize the vectors\n",
    "snr          = 100\n",
    "Nobs         = len(sp_list)\n",
    "RVs, RVs0    = np.full(Nobs, np.nan), np.full(Nobs, np.nan)\n",
    "RVse, RVs0e  = np.full(Nobs,np.nan),  np.full(Nobs,np.nan)\n",
    "\n",
    "\n",
    "# Iterate through the observations\n",
    "# --------------------------------\n",
    "for obs_n in tqdm(np.arange(Nobs)):    \n",
    "    \n",
    "    # Assign a simulated velocity shift to the observation\n",
    "    ttmp      = times[obs_n]\n",
    "    vtmp      = 0.3*np.sin(2*np.pi*(ttmp-times[0])/17)*u.m/u.s\n",
    "    \n",
    "    # Load the n-th simulation, shift it, normalize it, and add some white noise.\n",
    "    dat       = sp_list[obs_n]/np.median(sp_list[obs_n])\n",
    "    dat       = velocity_shift(dat, dv, v_shift=vtmp)\n",
    "    noise_std = np.sqrt(np.var(dat)/snr**2)\n",
    "    dat       = (dat - np.mean(dat)) + np.random.normal(size=len(dat))*noise_std\n",
    "\n",
    "    # Get the RV\n",
    "    sc  = lambda x: -1*score(x*const.c, dat, spn_norm, mdl, dv=dv, w=1/noise_std**2)[0]\n",
    "    sc0 = lambda x: -1*score(x*const.c, dat, spn_norm, mdl, dv=dv, w=1/noise_std**2)[1]\n",
    "    res = minimize_scalar(sc, \n",
    "                            bounds=(-400/const.c.value, 400/const.c.value),  \n",
    "                            method='bounded',  options={'xatol': 1e-13})\n",
    "\n",
    "    res0 = minimize_scalar(sc0, \n",
    "                            bounds=(-400/const.c.value, 400/const.c.value),  \n",
    "                            method='bounded',  options={'xatol': 1e-13})\n",
    "\n",
    "\n",
    "    # Calculate the uncertainty with some spline aroud the best score\n",
    "    xx        = np.linspace(res.x*const.c.value-1,res.x*const.c.value+1,20)/const.c.value\n",
    "    yy        = -0.5*np.array([sc(x) for x in xx])*noise_std**(-2) \n",
    "    y_spl     = interpolate.UnivariateSpline(xx,yy,s=0,k=4)\n",
    "    score_vel  = y_spl.derivative(n=1).roots()\n",
    "    score_se   = (-1/y_spl.derivative(n=2)(score_vel))**0.5\n",
    "    \n",
    "    # The same, but now the velocity based on the score of the zero term only\n",
    "    xx0       = np.linspace(res0.x*const.c.value-1,res.x*const.c.value+1,20)/const.c.value\n",
    "    yy0       = -0.5*np.array([sc0(x) for x in xx0])*noise_std**(-2)\n",
    "    y0_spl    = interpolate.UnivariateSpline(xx0,yy0,s=0,k=4)\n",
    "    score0_vel = y0_spl.derivative(n=1).roots()\n",
    "    score0_se  = (-1/y0_spl.derivative(n=2)(score0_vel))**0.5\n",
    "    \n",
    "    # Keep the velocity and its derived uncertainty\n",
    "    RVs[obs_n]  = score_vel[0]*const.c.value\n",
    "    RVse[obs_n] = score_se[0]*const.c.value\n",
    "    RVs0[obs_n]  = score0_vel[0]*const.c.value\n",
    "    RVs0e[obs_n] = score0_se[0]*const.c.value"
   ]
  },
  {
   "cell_type": "code",
   "execution_count": 10,
   "metadata": {},
   "outputs": [],
   "source": [
    "soap_rv = np.genfromtxt('SOAP_RVs.csv', dtype=float, delimiter=',', names=True) \n",
    "t   =  np.array([x[0] for x in soap_rv])\n",
    "srv =  np.array([x[1] for x in soap_rv])\n",
    "srv += 0.3*np.sin(2*np.pi*(t-t[0])/17)"
   ]
  },
  {
   "cell_type": "code",
   "execution_count": 17,
   "metadata": {},
   "outputs": [
    {
     "data": {
      "image/png": "[encoded data removed]",
      "text/plain": [
       "<Figure size 576x576 with 3 Axes>"
      ]
     },
     "metadata": {
      "needs_background": "light"
     },
     "output_type": "display_data"
    }
   ],
   "source": [
    "# Sime plotting definitions\n",
    "plt.rcParams.update({\n",
    "        \"text.usetex\": True,\n",
    "        \"font.family\": \"sans-serif\",\n",
    "        \"font.sans-serif\": [\"Helvetica\"]})\n",
    "plt.rcParams['font.size'] = 14\n",
    "\n",
    "fig  = plt.figure(figsize=(8,8))\n",
    "grid = plt.GridSpec(3, 1, figure=fig, wspace=0.5, hspace=0.0)\n",
    "\n",
    "\n",
    "ax1 = plt.subplot(grid[0, 0])\n",
    "plt.plot(t,srv-srv.mean(),'.k',markersize=2.7,)\n",
    "plt.plot(times, 0.3*np.sin(2*np.pi*(times-times[0])/17)*u.m/u.s,'-r',linewidth=1)\n",
    "plt.text(0.975, 0.9, r'${\\rm SOAP}$', horizontalalignment='right',\n",
    "         verticalalignment='center', transform = ax1.transAxes,fontsize=12)\n",
    "ax1.set_xticks([])\n",
    "ax1.set_xticks([], minor=True)\n",
    "ax1.set_ylim([-1.85,1.85])\n",
    "ax1.set_xlim([-1,51])\n",
    "\n",
    "ax2 = plt.subplot(grid[1, 0])\n",
    "plt.errorbar(np.array(times),np.array(RVs0)-np.nanmean(RVs0),yerr=RVs0e, \n",
    "             markersize=2.7, elinewidth=0.5, fmt='.k', ecolor='grey')\n",
    "plt.plot(times, 0.3*np.sin(2*np.pi*(times-times[0])/17)*u.m/u.s,'-r',linewidth=1)\n",
    "_ = ax2.set_ylabel(r'${\\rm Velocity}$\\, ${\\rm(m\\, s^{-1})}$', labelpad=5, fontsize=20)\n",
    "plt.text(0.975, 0.9, r'${\\rm Zeroth \\,\\, order}$', horizontalalignment='right',\n",
    "         verticalalignment='center', transform = ax2.transAxes,fontsize=12)\n",
    "ax2.set_xticks([])\n",
    "ax2.set_xticks([], minor=True)\n",
    "ax2.set_ylim([-1.85,1.85])\n",
    "ax2.set_xlim([-1,51])\n",
    "\n",
    "ax3  = plt.subplot(grid[2, 0])\n",
    "plt.errorbar(np.array(times),np.array(RVs)-np.nanmean(RVs),yerr=RVse, \n",
    "             markersize=2.7, elinewidth=0.5, fmt='.k', ecolor='grey')\n",
    "plt.plot(times, 0.3*np.sin(2*np.pi*(times-times[0])/17)*u.m/u.s,'-r',linewidth=1)\n",
    "plt.text(0.975, 0.9, r'${\\rm Full \\,\\, model}$', horizontalalignment='right',\n",
    "         verticalalignment='center', transform = ax3.transAxes,fontsize=12)\n",
    "ax3.set_ylim([-1.85,1.85])\n",
    "ax3.set_xlim([-1,51])\n",
    "\n",
    "_ = ax3.set_xlabel(r'$\\rm{Time}$ $(\\rm{day})$', labelpad=5, fontsize=20)"
   ]
  },
  {
   "cell_type": "code",
   "execution_count": 13,
   "metadata": {},
   "outputs": [
    {
     "data": {
      "text/plain": [
       "0.3432793080335292"
      ]
     },
     "execution_count": 13,
     "metadata": {},
     "output_type": "execute_result"
    }
   ],
   "source": [
    "np.std(RVs-RVs.mean()-0.3*np.sin(2*np.pi*(times-times[0])/17))"
   ]
  }
 ],
 "metadata": {
  "kernelspec": {
   "display_name": "Python 3",
   "language": "python",
   "name": "python3"
  },
  "language_info": {
   "codemirror_mode": {
    "name": "ipython",
    "version": 3
   },
   "file_extension": ".py",
   "mimetype": "text/x-python",
   "name": "python",
   "nbconvert_exporter": "python",
   "pygments_lexer": "ipython3",
   "version": "3.9.17"
  },
  "pycharm": {
   "stem_cell": {
    "cell_type": "raw",
    "metadata": {
     "collapsed": false
    },
    "source": []
   }
  }
 },
 "nbformat": 4,
 "nbformat_minor": 4
}
